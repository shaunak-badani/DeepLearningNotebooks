{
 "cells": [
  {
   "cell_type": "markdown",
   "metadata": {},
   "source": [
    "<a href='https://ai.meng.duke.edu'> = <img align=\"left\" style=\"padding-top:10px;\" src=https://storage.googleapis.com/aipi_datasets/Duke-AIPI-Logo.png>"
   ]
  },
  {
   "cell_type": "markdown",
   "metadata": {},
   "source": [
    "# Text Pre-processing\n",
    "Text is messy, and a lot of work needs to be done to pre-process it before it is useful for modeling.  Generally a text pre-processing pipeline will include at least the following steps:  \n",
    "- Tokenizing the text - splitting it into words and punctuation\n",
    "- Remove stop words and punctuation  \n",
    "- Convert words to root words using lemmatization or stemming  \n",
    "\n",
    "This notebook walks through a basic example of how to perform those steps using two common NLP libraries: [NLTK](https://www.nltk.org) and spaCy (https://spacy.io).\n"
   ]
  },
  {
   "cell_type": "code",
   "execution_count": 1,
   "metadata": {},
   "outputs": [
    {
     "name": "stderr",
     "output_type": "stream",
     "text": [
      "[nltk_data] Downloading package omw-1.4 to /home/shaunak/nltk_data...\n",
      "[nltk_data]   Package omw-1.4 is already up-to-date!\n"
     ]
    }
   ],
   "source": [
    "import string\n",
    "\n",
    "# Import Spacy and download model to use\n",
    "import spacy\n",
    "#!python -m spacy download en_core_web_sm\n",
    "\n",
    "# Import NLTK and download model to use\n",
    "import nltk\n",
    "nltk.download('omw-1.4')\n",
    "\n",
    "import warnings\n",
    "warnings.filterwarnings('ignore')"
   ]
  },
  {
   "cell_type": "code",
   "execution_count": 2,
   "metadata": {},
   "outputs": [
    {
     "name": "stderr",
     "output_type": "stream",
     "text": [
      "[nltk_data] Downloading package punkt_tab to\n",
      "[nltk_data]     /home/shaunak/nltk_data...\n",
      "[nltk_data]   Package punkt_tab is already up-to-date!\n",
      "[nltk_data] Downloading package stopwords to\n",
      "[nltk_data]     /home/shaunak/nltk_data...\n",
      "[nltk_data]   Package stopwords is already up-to-date!\n",
      "[nltk_data] Downloading package wordnet to /home/shaunak/nltk_data...\n",
      "[nltk_data]   Package wordnet is already up-to-date!\n"
     ]
    },
    {
     "data": {
      "text/plain": [
       "True"
      ]
     },
     "execution_count": 2,
     "metadata": {},
     "output_type": "execute_result"
    }
   ],
   "source": [
    "nltk.download('punkt_tab')\n",
    "nltk.download('stopwords')\n",
    "nltk.download('wordnet')"
   ]
  },
  {
   "cell_type": "code",
   "execution_count": 3,
   "metadata": {},
   "outputs": [],
   "source": [
    "example_doc = '''I saw some geese near the pond. Then they took off flying.'''\n",
    "\n",
    "example_doc2 = '''\"Let's go to N.Y.!\"\"'''"
   ]
  },
  {
   "cell_type": "markdown",
   "metadata": {},
   "source": [
    "## NLTK\n",
    "Let's first use NLTK to pre-process our text.  We'll start by tokenizing our sentence, then remove punctuation and stop words, and then we will lemmatize the tokens to get the root words.\n",
    "\n",
    "### Tokenization"
   ]
  },
  {
   "cell_type": "code",
   "execution_count": 4,
   "metadata": {},
   "outputs": [
    {
     "name": "stdout",
     "output_type": "stream",
     "text": [
      "['I', 'saw', 'some', 'geese', 'near', 'the', 'pond', '.', 'Then', 'they', 'took', 'off', 'flying', '.']\n",
      "['``', 'Let', \"'s\", 'go', 'to', 'N.Y.', '!', \"''\", \"''\"]\n"
     ]
    }
   ],
   "source": [
    "# Convert to tokens\n",
    "tokens = nltk.word_tokenize(example_doc)\n",
    "\n",
    "tokens2 = nltk.word_tokenize(example_doc2)\n",
    "\n",
    "\n",
    "print(tokens)\n",
    "print(tokens2)"
   ]
  },
  {
   "cell_type": "markdown",
   "metadata": {},
   "source": [
    "### Remove stop words & punctuation"
   ]
  },
  {
   "cell_type": "code",
   "execution_count": 5,
   "metadata": {},
   "outputs": [
    {
     "name": "stdout",
     "output_type": "stream",
     "text": [
      "{'you', 'am', 'with', 'had', 'isn', 'why', 'some', 'those', 'was', 'or', 'now', \"aren't\", 'm', 'her', 'shouldn', 's', 'ma', 'haven', \"should've\", 'just', 'ain', 'once', 've', 'are', 'other', 'any', 'further', \"shouldn't\", 'as', 'the', 'them', 'being', 'll', \"haven't\", 'they', 'what', 'do', \"you're\", 'it', 'below', 'don', 'then', 'no', 'my', 'against', \"won't\", 'ourselves', \"wouldn't\", 'himself', 'his', 'aren', \"doesn't\", \"wasn't\", 'out', 'doesn', 'and', 'too', 'shan', 'myself', 'their', 'after', 'our', 'only', 'ours', 'between', 'before', 'above', 'than', 'few', 'can', 'been', 'from', 'y', \"it's\", 'both', \"mustn't\", 'but', 'mightn', \"you've\", \"shan't\", 'this', 'such', 'because', 'didn', 'into', 'same', \"you'll\", 'hers', 'has', 'an', 'not', 'wasn', 'hasn', \"weren't\", 'off', \"don't\", \"didn't\", 'did', \"needn't\", 'wouldn', 'were', 'if', 'needn', 'each', 'should', 'i', 'its', 'to', \"she's\", 'o', \"hasn't\", 'does', 'theirs', 'when', 'down', \"mightn't\", 'have', 'your', 'whom', 'is', 'during', 'most', 'yourselves', 'him', 're', 'couldn', 'through', 'hadn', 'who', 'which', \"hadn't\", 'that', 'nor', 'yourself', \"that'll\", 'by', 'mustn', 'she', \"you'd\", 'won', 'under', 't', 'doing', 'a', 'will', 'again', 'these', 'up', 'where', 'of', 'd', 'on', 'there', \"isn't\", 'yours', 'in', 'here', 'he', 'about', 'how', 'having', 'herself', 'own', 'all', 'for', 'we', 'itself', 'me', 'at', 'very', 'weren', 'so', 'until', 'themselves', \"couldn't\", 'over', 'more', 'be', 'while'}\n"
     ]
    }
   ],
   "source": [
    "from nltk.corpus import stopwords\n",
    "stop_words = set(stopwords.words('english'))\n",
    "print(stop_words)"
   ]
  },
  {
   "cell_type": "code",
   "execution_count": 6,
   "metadata": {},
   "outputs": [
    {
     "name": "stdout",
     "output_type": "stream",
     "text": [
      "['saw', 'geese', 'near', 'pond', 'took', 'flying']\n"
     ]
    }
   ],
   "source": [
    "punctuations = string.punctuation\n",
    "\n",
    "# Filter out stop words and punctuation\n",
    "tokens = [w for w in tokens if w.lower() not in stop_words and w not in punctuations]\n",
    " \n",
    "print(tokens)"
   ]
  },
  {
   "cell_type": "markdown",
   "metadata": {},
   "source": [
    "### Lemmatize"
   ]
  },
  {
   "cell_type": "code",
   "execution_count": 7,
   "metadata": {},
   "outputs": [
    {
     "name": "stdout",
     "output_type": "stream",
     "text": [
      "['saw', 'goose', 'near', 'pond', 'took', 'flying']\n"
     ]
    }
   ],
   "source": [
    "from nltk.stem import WordNetLemmatizer\n",
    "wordnet_lemmatizer = WordNetLemmatizer()\n",
    "tokens = [wordnet_lemmatizer.lemmatize(word).lower().strip() for word in tokens]\n",
    "print(tokens)\n"
   ]
  },
  {
   "cell_type": "code",
   "execution_count": 8,
   "metadata": {},
   "outputs": [
    {
     "name": "stdout",
     "output_type": "stream",
     "text": [
      "Original:\n",
      "I saw some geese near the pond. Then they took off flying.\n",
      "Processed:\n",
      "saw goose near pond took flying\n"
     ]
    }
   ],
   "source": [
    "# Combine the filtered lemmas back into a string\n",
    "doc_processed = \" \".join([i for i in tokens])\n",
    "\n",
    "print('Original:')\n",
    "print(example_doc)\n",
    "print('Processed:')\n",
    "print(doc_processed)"
   ]
  },
  {
   "cell_type": "markdown",
   "metadata": {},
   "source": [
    "## SpaCy\n",
    "Let's now walk through our simple example using spaCy.  With spaCy, we'll first tokenize as we did with NLTK.  But since spaCy's tokens are a bit different than NLTK (NLTK just creates string tokens, while spaCy's tokens contain lots of additional useful information on each word such as part-of-speech, root etc.), we will next use the spaCy tokens to extract the lemmas, and then remove stop words and punctuation from the list of string lemmas.\n",
    "### Tokenization"
   ]
  },
  {
   "cell_type": "code",
   "execution_count": 18,
   "metadata": {},
   "outputs": [
    {
     "name": "stdout",
     "output_type": "stream",
     "text": [
      "[I, saw, some, geese, near, the, pond, ., Then, they, took, off, flying, .]\n"
     ]
    }
   ],
   "source": [
    "# Process sentence\n",
    "nlp = spacy.load(\"en_core_web_sm\")\n",
    "doc = nlp(example_doc)\n",
    "# Get tokens\n",
    "tokens = [token for token in doc]\n",
    "\n",
    "print(tokens)"
   ]
  },
  {
   "cell_type": "markdown",
   "metadata": {},
   "source": [
    "### Lemmatization"
   ]
  },
  {
   "cell_type": "code",
   "execution_count": 19,
   "metadata": {},
   "outputs": [
    {
     "name": "stdout",
     "output_type": "stream",
     "text": [
      "['i', 'see', 'some', 'geese', 'near', 'the', 'pond', '.', 'then', 'they', 'take', 'off', 'fly', '.']\n"
     ]
    }
   ],
   "source": [
    "# Extract the lemmas for each token\n",
    "lemmatized_tokens = [token.lemma_.lower().strip() for token in tokens]\n",
    "print(lemmatized_tokens)"
   ]
  },
  {
   "cell_type": "markdown",
   "metadata": {},
   "source": [
    "### Remove stop words and punctuation"
   ]
  },
  {
   "cell_type": "code",
   "execution_count": 20,
   "metadata": {},
   "outputs": [
    {
     "name": "stdout",
     "output_type": "stream",
     "text": [
      "['geese', 'near', 'pond', 'fly']\n"
     ]
    }
   ],
   "source": [
    "from spacy.lang.en.stop_words import STOP_WORDS\n",
    "stopwords = set(STOP_WORDS)\n",
    "punctuations = string.punctuation\n",
    "\n",
    "tokens = [token for token in lemmatized_tokens if token.lower() not in stopwords and token not in punctuations]\n",
    "print(tokens)"
   ]
  },
  {
   "cell_type": "code",
   "execution_count": 21,
   "metadata": {},
   "outputs": [
    {
     "name": "stdout",
     "output_type": "stream",
     "text": [
      "Original:\n",
      "I saw some geese near the pond. Then they took off flying.\n",
      "Processed:\n",
      "geese near pond fly\n"
     ]
    }
   ],
   "source": [
    "# Combine the filtered lemmas back into a string\n",
    "doc_processed = \" \".join([i for i in tokens])\n",
    "\n",
    "print('Original:')\n",
    "print(example_doc)\n",
    "print('Processed:')\n",
    "print(doc_processed)"
   ]
  },
  {
   "cell_type": "markdown",
   "metadata": {},
   "source": [
    "### BPE"
   ]
  },
  {
   "cell_type": "code",
   "execution_count": 22,
   "metadata": {},
   "outputs": [],
   "source": [
    "corpus = [\n",
    "    \"This is the Hugging Face Course.\",\n",
    "    \"This chapter is about tokenization.\",\n",
    "    \"This section shows several tokenizer algorithms.\",\n",
    "    \"Hopefully, you will be able to understand how they are trained and generate tokens.\",\n",
    "]"
   ]
  },
  {
   "cell_type": "code",
   "execution_count": 23,
   "metadata": {},
   "outputs": [],
   "source": [
    "from transformers import AutoTokenizer"
   ]
  },
  {
   "cell_type": "code",
   "execution_count": 24,
   "metadata": {},
   "outputs": [
    {
     "data": {
      "application/vnd.jupyter.widget-view+json": {
       "model_id": "4ccd09e42fbf41859365ef6684118ac9",
       "version_major": 2,
       "version_minor": 0
      },
      "text/plain": [
       "tokenizer_config.json:   0%|          | 0.00/26.0 [00:00<?, ?B/s]"
      ]
     },
     "metadata": {},
     "output_type": "display_data"
    },
    {
     "data": {
      "application/vnd.jupyter.widget-view+json": {
       "model_id": "443e83087e6e47238f33bfbef42c297a",
       "version_major": 2,
       "version_minor": 0
      },
      "text/plain": [
       "config.json:   0%|          | 0.00/665 [00:00<?, ?B/s]"
      ]
     },
     "metadata": {},
     "output_type": "display_data"
    },
    {
     "data": {
      "application/vnd.jupyter.widget-view+json": {
       "model_id": "3938b57406474649848cc95ed31dc1ea",
       "version_major": 2,
       "version_minor": 0
      },
      "text/plain": [
       "vocab.json:   0%|          | 0.00/1.04M [00:00<?, ?B/s]"
      ]
     },
     "metadata": {},
     "output_type": "display_data"
    },
    {
     "data": {
      "application/vnd.jupyter.widget-view+json": {
       "model_id": "5f5a0913eec449108b778f59b6350480",
       "version_major": 2,
       "version_minor": 0
      },
      "text/plain": [
       "merges.txt:   0%|          | 0.00/456k [00:00<?, ?B/s]"
      ]
     },
     "metadata": {},
     "output_type": "display_data"
    },
    {
     "data": {
      "application/vnd.jupyter.widget-view+json": {
       "model_id": "b73e23ff60b14176a3fc3cbd79a975be",
       "version_major": 2,
       "version_minor": 0
      },
      "text/plain": [
       "tokenizer.json:   0%|          | 0.00/1.36M [00:00<?, ?B/s]"
      ]
     },
     "metadata": {},
     "output_type": "display_data"
    }
   ],
   "source": [
    "tokenizer = AutoTokenizer.from_pretrained(\"gpt2\")"
   ]
  },
  {
   "cell_type": "code",
   "execution_count": 25,
   "metadata": {},
   "outputs": [
    {
     "name": "stdout",
     "output_type": "stream",
     "text": [
      "[('This', (0, 4)), ('Ġis', (4, 7)), ('Ġthe', (7, 11)), ('ĠHugging', (11, 19)), ('ĠFace', (19, 24)), ('ĠCourse', (24, 31)), ('.', (31, 32))]\n",
      "[('This', (0, 4)), ('Ġchapter', (4, 12)), ('Ġis', (12, 15)), ('Ġabout', (15, 21)), ('Ġtokenization', (21, 34)), ('.', (34, 35))]\n",
      "[('This', (0, 4)), ('Ġsection', (4, 12)), ('Ġshows', (12, 18)), ('Ġseveral', (18, 26)), ('Ġtokenizer', (26, 36)), ('Ġalgorithms', (36, 47)), ('.', (47, 48))]\n",
      "[('Hopefully', (0, 9)), (',', (9, 10)), ('Ġyou', (10, 14)), ('Ġwill', (14, 19)), ('Ġbe', (19, 22)), ('Ġable', (22, 27)), ('Ġto', (27, 30)), ('Ġunderstand', (30, 41)), ('Ġhow', (41, 45)), ('Ġthey', (45, 50)), ('Ġare', (50, 54)), ('Ġtrained', (54, 62)), ('Ġand', (62, 66)), ('Ġgenerate', (66, 75)), ('Ġtokens', (75, 82)), ('.', (82, 83))]\n",
      "defaultdict(<class 'int'>, {'This': 3, 'Ġis': 2, 'Ġthe': 1, 'ĠHugging': 1, 'ĠFace': 1, 'ĠCourse': 1, '.': 4, 'Ġchapter': 1, 'Ġabout': 1, 'Ġtokenization': 1, 'Ġsection': 1, 'Ġshows': 1, 'Ġseveral': 1, 'Ġtokenizer': 1, 'Ġalgorithms': 1, 'Hopefully': 1, ',': 1, 'Ġyou': 1, 'Ġwill': 1, 'Ġbe': 1, 'Ġable': 1, 'Ġto': 1, 'Ġunderstand': 1, 'Ġhow': 1, 'Ġthey': 1, 'Ġare': 1, 'Ġtrained': 1, 'Ġand': 1, 'Ġgenerate': 1, 'Ġtokens': 1})\n"
     ]
    }
   ],
   "source": [
    "from collections import defaultdict\n",
    "\n",
    "word_freqs = defaultdict(int)\n",
    "\n",
    "for text in corpus:\n",
    "    words_with_offsets = tokenizer.backend_tokenizer.pre_tokenizer.pre_tokenize_str(text)\n",
    "    print(words_with_offsets)\n",
    "    new_words = [word for word, offset in words_with_offsets]\n",
    "    for word in new_words:\n",
    "        word_freqs[word] += 1\n",
    "\n",
    "print(word_freqs)"
   ]
  },
  {
   "cell_type": "code",
   "execution_count": null,
   "metadata": {},
   "outputs": [],
   "source": []
  }
 ],
 "metadata": {
  "kernelspec": {
   "display_name": "ML",
   "language": "python",
   "name": "ml"
  },
  "language_info": {
   "codemirror_mode": {
    "name": "ipython",
    "version": 3
   },
   "file_extension": ".py",
   "mimetype": "text/x-python",
   "name": "python",
   "nbconvert_exporter": "python",
   "pygments_lexer": "ipython3",
   "version": "3.11.5"
  }
 },
 "nbformat": 4,
 "nbformat_minor": 4
}
