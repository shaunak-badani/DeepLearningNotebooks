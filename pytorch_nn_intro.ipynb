{
 "cells": [
  {
   "cell_type": "markdown",
   "metadata": {
    "id": "0wplhw_Z72YE"
   },
   "source": [
    "<a href='https://ai.meng.duke.edu'> = <img align=\"left\" style=\"padding-top:10px;\" src=https://storage.googleapis.com/aipi_datasets/Duke-AIPI-Logo.png>"
   ]
  },
  {
   "cell_type": "markdown",
   "metadata": {
    "id": "tZA3j7RY72YK"
   },
   "source": [
    "# Deep Learning in PyTorch\n",
    "This notebook provides an introduction to building neural networks in PyTorch for modeling tasks using structured data.\n",
    "\n",
    "### Contents\n",
    "1) [Regression Models](#regression)  \n",
    "2) [Binary Classification Models](#binary-classification)  \n",
    "3) [Multiclass Classification](#multiclass-classification)  \n",
    "4) [Saving Models](#saving-models)\n"
   ]
  },
  {
   "cell_type": "code",
   "execution_count": 1,
   "metadata": {
    "id": "hIvEaDt-72YP"
   },
   "outputs": [],
   "source": [
    "import numpy as np\n",
    "import pandas as pd\n",
    "import seaborn as sns\n",
    "import torch\n",
    "from torchvision import datasets, transforms\n",
    "import torchvision\n",
    "from torch.utils.data import DataLoader, TensorDataset\n",
    "import torch.nn as nn\n",
    "import torch.nn.functional as F\n",
    "import torch.optim as optim\n",
    "\n",
    "from sklearn.model_selection import train_test_split\n",
    "from sklearn.preprocessing import StandardScaler\n",
    "import matplotlib.pyplot as plt\n",
    "\n",
    "import warnings\n",
    "warnings.filterwarnings(\"ignore\")"
   ]
  },
  {
   "cell_type": "code",
   "execution_count": 2,
   "metadata": {},
   "outputs": [],
   "source": [
    "# Download data\n",
    "import urllib.request\n",
    "from pathlib import Path\n",
    "import os\n",
    "path = Path()\n",
    "files = {'communities.csv':'https://storage.googleapis.com/aipi_datasets/communities.csv'}\n",
    "for key,value in files.items():\n",
    "    filename = path/key\n",
    "    url = value\n",
    "    # If the file does not already exist in the directory, download it\n",
    "    if not os.path.exists(filename):\n",
    "        urllib.request.urlretrieve(url,filename)"
   ]
  },
  {
   "cell_type": "markdown",
   "metadata": {},
   "source": [
    "# Regression\n",
    "For regression we use `nn.MSELoss()` as our loss function."
   ]
  },
  {
   "cell_type": "code",
   "execution_count": 3,
   "metadata": {},
   "outputs": [
    {
     "name": "stdout",
     "output_type": "stream",
     "text": [
      "Shape of X:\n",
      "(1994, 122)\n"
     ]
    }
   ],
   "source": [
    "# Read data in and clean up\n",
    "crimes = pd.read_csv('communities.csv',na_values=['?'])\n",
    "crimes.drop(columns=['state','country','community','communityname','fold'],inplace=True)\n",
    "crimes.fillna(crimes.mean(),inplace=True)\n",
    "\n",
    "X = crimes.iloc[:,:-1]\n",
    "y = crimes.iloc[:,-1]\n",
    "\n",
    "print('Shape of X:')\n",
    "print(X.shape)\n",
    "\n",
    "# Split our data into training and test sets\n",
    "X_train, X_test, y_train, y_test = train_test_split(X,y,random_state=0, test_size=0.2)"
   ]
  },
  {
   "cell_type": "markdown",
   "metadata": {},
   "source": [
    "### Step 1: Set up dataloaders for our data\n",
    "The first step is to set up the dataloaders to feed our data into the model.  We first create a `TensorDataset` for our training data and our test data.  Then we create `DataLoaders` for the training and test data which allow us to iteratively feed the data into our model in batches (called \"mini-batches\") of a size that we can specify."
   ]
  },
  {
   "cell_type": "markdown",
   "metadata": {},
   "source": [
    "### Collate function\n",
    "A collate function in deep learning transforms and combines individual data samples into batches suitable for model training. Its key purposes are:\n",
    "\n",
    "- Converting different data formats into tensors\n",
    "- Handling variable-length sequences through padding\n",
    "- Ensuring consistent batch shapes\n",
    "- Custom preprocessing like sorting or normalization\n",
    "\n",
    "It's especially important when dealing with datasets containing samples of different sizes or structures, like text sequences or images of varying dimensions."
   ]
  },
  {
   "cell_type": "code",
   "execution_count": 4,
   "metadata": {},
   "outputs": [
    {
     "name": "stdout",
     "output_type": "stream",
     "text": [
      "Type of images :  <class 'tuple'>\n",
      "Type of first image :  <class 'torch.Tensor'>\n",
      "Type of labels:  <class 'tuple'>\n",
      "Type of labels[0]:  <class 'torch.Tensor'>\n",
      "torch.Size([32, 122])\n"
     ]
    }
   ],
   "source": [
    "def collate_fn(batch):\n",
    "    # batch is a list of x and y\n",
    "    # [(x1, y1), (x2, y2), (x3, y3)]\n",
    "    # x1  and y1 are tensors\n",
    "    images, labels = zip(*batch)\n",
    "    print(\"Type of images : \", type(images))\n",
    "    print(\"Type of first image : \", type(images[0]))\n",
    "    # images is now a tuple of tensors ((x1), (x2))\n",
    "    # labels is a tuple of tensors (y1, y2)\n",
    "    \n",
    "    print(\"Type of labels: \", type(labels))\n",
    "    print(\"Type of labels[0]: \", type(labels[0]))\n",
    "    \n",
    "    images = torch.vstack([torch.tensor(img) for img in images])\n",
    "    labels = torch.tensor(labels)\n",
    "    \n",
    "    return torch.tensor(images), torch.tensor(labels)\n",
    "\n",
    "batchsize = 32\n",
    "# Convert training and test data to TensorDatasets\n",
    "trainset = TensorDataset(torch.from_numpy(np.array(X_train).astype('float32')), \n",
    "                        torch.from_numpy(np.array(y_train).astype('float32')).view(-1,1))\n",
    "testset = TensorDataset(torch.from_numpy(np.array(X_test).astype('float32')), \n",
    "                        torch.from_numpy(np.array(y_test).astype('float32')).view(-1,1))\n",
    "\n",
    "trainloader = torch.utils.data.DataLoader(trainset, batch_size=batchsize, shuffle=True, collate_fn = collate_fn)\n",
    "testloader = torch.utils.data.DataLoader(testset, batch_size=batchsize, shuffle=False, collate_fn = collate_fn)\n",
    "inp, target = next(iter(trainloader))\n",
    "print(inp.shape)"
   ]
  },
  {
   "cell_type": "code",
   "execution_count": 5,
   "metadata": {},
   "outputs": [],
   "source": [
    "# Create Dataloaders for our training and test data to allow us to iterate over minibatches \n",
    "trainloader = torch.utils.data.DataLoader(trainset, batch_size=batchsize, shuffle=True)\n",
    "testloader = torch.utils.data.DataLoader(testset, batch_size=batchsize, shuffle=False)"
   ]
  },
  {
   "cell_type": "markdown",
   "metadata": {
    "id": "hFXR1H3e72YR"
   },
   "source": [
    "### Step 2: Define our neural network architecture\n",
    "Next, we will define a model, feed-forward neural network for this chapter..\n",
    "For simplicity, we will use 3-layer, 2 hidden layers and 1 hidden-to-output layer, feed-forward net. Each layer is a fully-connected layer where the module `torch.nn.Linear` is the implementation of it. Also, we will apply ReLU activation for each layer.\n",
    "\n",
    "Basically, we are required to define a member method of `forward(self, x)` when we define a class for any customized network. It represents a forward pass of a computational graph and a backward pass (back-propagation) with automatic differentiation will be performed later based on this forward definition."
   ]
  },
  {
   "cell_type": "code",
   "execution_count": 26,
   "metadata": {},
   "outputs": [],
   "source": [
    "class RegressionNet(nn.Module):\n",
    "    def __init__(self, n_hidden1, n_hidden2):\n",
    "        super().__init__()\n",
    "        self.hidden1 = nn.Linear(122, n_hidden1)\n",
    "        self.hidden2 = nn.Linear(n_hidden1, n_hidden2)\n",
    "        self.out = nn.Linear(n_hidden2, 1)\n",
    "\n",
    "    def forward(self, x, criterion = None, labels = None):\n",
    "        x = F.relu(self.hidden1(x))\n",
    "        x = F.relu(self.hidden2(x))\n",
    "        x = self.out(x)\n",
    "        if self.training and criterion is not None and labels is not None:\n",
    "            x = criterion(x, labels)\n",
    "        return x\n",
    "\n",
    "# Instantiate our neural network\n",
    "net = RegressionNet(n_hidden1=50, n_hidden2=5)"
   ]
  },
  {
   "cell_type": "markdown",
   "metadata": {},
   "source": [
    "### Step 3: Define a cost / loss function and optimizer\n",
    "We will use Mean Squared Error as our loss function, which is usually named `criterion` in PyTorch.  For our optimizer we will use stochastic gradient descent (SGD).\n",
    "\n",
    "When we create an optimizer in PyTorch, we need to pass in the parameters that we want to optimize (train), which are our weights. We can retrieve all trainable parameters of the model by calling `model.parameters()`."
   ]
  },
  {
   "cell_type": "code",
   "execution_count": 27,
   "metadata": {},
   "outputs": [],
   "source": [
    "# Define the cost / loss function\n",
    "criterion = nn.MSELoss()\n",
    "# Define the method of updating the weights each iteration\n",
    "optimizer = optim.SGD(net.parameters(), lr=0.01)"
   ]
  },
  {
   "cell_type": "markdown",
   "metadata": {
    "id": "kAwo2lAi72YX"
   },
   "source": [
    "### Step 4: Train the model\n",
    "To train our model, we perform the following four steps in a loop, using one input mini-batch at a time:  \n",
    "    1) Make a forward pass through the network to calculate the network output  \n",
    "    2) Use the network output to calculate the cost/loss  \n",
    "    3) Calculate the gradient of the cost/loss with respect to the weights by performing a backward pass through the network with loss.backward()  \n",
    "    4) Update the weights by taking a step with the optimizer"
   ]
  },
  {
   "cell_type": "code",
   "execution_count": 28,
   "metadata": {},
   "outputs": [],
   "source": [
    "def train_model(model,criterion,optimizer,trainloader,num_iter,device):\n",
    "    model = model.to(device) # Send model to GPU if available\n",
    "    model.train() # Set the model to training mode, Very Important\n",
    "    cost = []\n",
    "    for epoch in range(num_iter):\n",
    "\n",
    "        running_loss = 0.0\n",
    "\n",
    "        for i, data in enumerate(trainloader):\n",
    "\n",
    "            # Get the inputs X and labels y for the minibatch\n",
    "            inputs, labels = data[0].to(device), data[1].to(device)\n",
    "\n",
    "            # Zero the gradients of the weights each iteration\n",
    "            optimizer.zero_grad()\n",
    "\n",
    "            # Calculate the predictions and the cost/loss\n",
    "            # model.forward(inputs) is equivalent to calling model(inputs)\n",
    "            loss = model(inputs, criterion, labels)\n",
    "\n",
    "            # Use autograd to calculate the gradient of the cost with respect to each weight\n",
    "            loss.backward()\n",
    "\n",
    "            # Use the optimizer to do the weights update\n",
    "            optimizer.step()\n",
    "\n",
    "            # Add the loss to running loss for the epoch\n",
    "            running_loss += loss.item()\n",
    "\n",
    "        cost.append(running_loss)\n",
    "    return cost"
   ]
  },
  {
   "cell_type": "code",
   "execution_count": 29,
   "metadata": {},
   "outputs": [
    {
     "data": {
      "image/png": "[encoded data removed]",
      "text/plain": [
       "<Figure size 640x480 with 1 Axes>"
      ]
     },
     "metadata": {},
     "output_type": "display_data"
    }
   ],
   "source": [
    "# Set device\n",
    "device = torch.device(\"cuda\" if torch.cuda.is_available() else \"cpu\")\n",
    "# Number of iterations (epochs) to train\n",
    "n_iter = 200\n",
    "\n",
    "cost_path = train_model(net,criterion,optimizer,trainloader,n_iter,device)\n",
    "\n",
    "plt.plot(cost_path)\n",
    "plt.xlabel('Epoch')\n",
    "plt.ylabel('Loss')\n",
    "plt.show()"
   ]
  },
  {
   "cell_type": "markdown",
   "metadata": {
    "id": "fwX2V2sx72YZ"
   },
   "source": [
    "### Step 5: Test the model on the test set"
   ]
  },
  {
   "cell_type": "code",
   "execution_count": 30,
   "metadata": {},
   "outputs": [
    {
     "name": "stdout",
     "output_type": "stream",
     "text": [
      "The test set MSE of your model is 0.0209\n",
      "CPU times: user 20.5 ms, sys: 1.87 ms, total: 22.4 ms\n",
      "Wall time: 4.39 ms\n"
     ]
    }
   ],
   "source": [
    "%%time\n",
    "with torch.set_grad_enabled(True):\n",
    "    net = net.to(device)\n",
    "    net.eval()\n",
    "    test_preds = []\n",
    "    # Calculate the predictions on the test set and add to list\n",
    "    for data in testloader:\n",
    "        inputs, labels = data[0].to(device), data[1].to(device)\n",
    "        outputs = net(inputs)\n",
    "        test_preds.extend(outputs.cpu().squeeze().tolist())\n",
    "test_mse = 1/len(y_test)*np.sum((np.array(test_preds)-np.array(y_test))**2)\n",
    "print('The test set MSE of your model is {:.4f}'.format(test_mse))"
   ]
  },
  {
   "cell_type": "code",
   "execution_count": 31,
   "metadata": {},
   "outputs": [
    {
     "name": "stdout",
     "output_type": "stream",
     "text": [
      "The test set MSE of your model is 0.0209\n",
      "CPU times: user 17.5 ms, sys: 2.92 ms, total: 20.5 ms\n",
      "Wall time: 4.07 ms\n"
     ]
    }
   ],
   "source": [
    "%%time\n",
    "with torch.no_grad(): \n",
    "    # Set the model to evaluation mode\n",
    "    net = net.to(device)\n",
    "    net.eval()\n",
    "    test_preds = []\n",
    "    # Calculate the predictions on the test set and add to list\n",
    "    for data in testloader:\n",
    "        inputs, labels = data[0].to(device), data[1].to(device)\n",
    "        outputs = net(inputs)\n",
    "        test_preds.extend(outputs.cpu().squeeze().tolist())\n",
    "\n",
    "test_mse = 1/len(y_test)*np.sum((np.array(test_preds)-np.array(y_test))**2)\n",
    "print('The test set MSE of your model is {:.4f}'.format(test_mse))"
   ]
  },
  {
   "cell_type": "markdown",
   "metadata": {},
   "source": [
    "### Time increase with no_grad\n",
    "\n",
    "- There is a slight decrease in computation time with torch.no_grad()"
   ]
  },
  {
   "cell_type": "markdown",
   "metadata": {
    "id": "7UL1WMSJ72Yf"
   },
   "source": [
    "## Saving models\n",
    "To save PyTorch models for later use, we have two options:  \n",
    "1) We can save the `state_dict` which contains all the learned parameters of the model (the weights and biases) but not the architecture itself.  To use it, we instantiate a new model of the desired architecture and then load the saved `state_dict` to assign values to all the parameters in the model  \n",
    "2) We can alternatively save the entire model including the architecture, and then load it up and use it for prediction"
   ]
  },
  {
   "cell_type": "code",
   "execution_count": 30,
   "metadata": {
    "id": "Grq05psc72Yg"
   },
   "outputs": [],
   "source": [
    "# OPTION 1: Save the state dictionary of the model\n",
    "\n",
    "model_dir = 'models/'\n",
    "os.makedirs(os.path.dirname(model_dir), exist_ok=True)\n",
    "filename = 'model_state_dict.pt'\n",
    "\n",
    "# Save the model's learned parameters (state_dict)\n",
    "torch.save(net.state_dict(), model_dir+filename)"
   ]
  },
  {
   "cell_type": "code",
   "execution_count": 31,
   "metadata": {
    "colab": {
     "base_uri": "https://localhost:8080/"
    },
    "id": "FTFKPmal72Yg",
    "outputId": "ea1957ce-ac26-4bad-a5f0-10784e5d7a08"
   },
   "outputs": [
    {
     "name": "stdout",
     "output_type": "stream",
     "text": [
      "Model's state_dict:\n",
      "hidden1.weight \t torch.Size([100, 4])\n",
      "hidden1.bias \t torch.Size([100])\n",
      "hidden2.weight \t torch.Size([50, 100])\n",
      "hidden2.bias \t torch.Size([50])\n",
      "hidden3.weight \t torch.Size([10, 50])\n",
      "hidden3.bias \t torch.Size([10])\n",
      "out.weight \t torch.Size([3, 10])\n",
      "out.bias \t torch.Size([3])\n",
      "\n",
      "Test set accuracy is 1.000\n"
     ]
    }
   ],
   "source": [
    "# Initialize new model and load state dict previously saved into it\n",
    "model = Multiclass_Net(n_input=4, n_hidden1=100, n_hidden2=50, n_hidden3=10, n_output=3)\n",
    "model.load_state_dict(torch.load(model_dir+filename))\n",
    "\n",
    "# Print model's state_dict\n",
    "print(\"Model's state_dict:\")\n",
    "for param_tensor in model.state_dict():\n",
    "    print(param_tensor, \"\\t\", model.state_dict()[param_tensor].size())\n",
    "    \n",
    "# Test loaded model\n",
    "acc = test_model(model,testloader,device)\n",
    "print()\n",
    "print('Test set accuracy is {:.3f}'.format(acc))"
   ]
  },
  {
   "cell_type": "code",
   "execution_count": 32,
   "metadata": {
    "id": "a_55NHZE72Yh"
   },
   "outputs": [],
   "source": [
    "# OPTION 2: Save the entire model\n",
    "\n",
    "model_dir = 'models/'\n",
    "os.makedirs(os.path.dirname(model_dir), exist_ok=True)\n",
    "filename = 'fullmodel.pt'\n",
    "\n",
    "# Save the entire model\n",
    "torch.save(net, model_dir+filename)"
   ]
  },
  {
   "cell_type": "code",
   "execution_count": 33,
   "metadata": {
    "colab": {
     "base_uri": "https://localhost:8080/"
    },
    "id": "i2dTOUdP72Yl",
    "outputId": "04e3fdb9-427c-4de6-d340-a86b7ecbe7db"
   },
   "outputs": [
    {
     "name": "stdout",
     "output_type": "stream",
     "text": [
      "Test set accuracy is 1.000\n"
     ]
    }
   ],
   "source": [
    "# Load model\n",
    "model2 = torch.load(model_dir+filename)\n",
    "\n",
    "# Test loaded model\n",
    "acc = test_model(model2,testloader,device)\n",
    "print('Test set accuracy is {:.3f}'.format(acc))"
   ]
  }
 ],
 "metadata": {
  "colab": {
   "name": "pytorch_nn_intro.ipynb",
   "provenance": []
  },
  "interpreter": {
   "hash": "31cc86d7aac4849c7546154c9b56d60163d5e8a1d83593a5eed18774fbf4fd37"
  },
  "kernelspec": {
   "display_name": "Python 3 (ipykernel)",
   "language": "python",
   "name": "python3"
  },
  "language_info": {
   "codemirror_mode": {
    "name": "ipython",
    "version": 3
   },
   "file_extension": ".py",
   "mimetype": "text/x-python",
   "name": "python",
   "nbconvert_exporter": "python",
   "pygments_lexer": "ipython3",
   "version": "3.11.5"
  }
 },
 "nbformat": 4,
 "nbformat_minor": 1
}
